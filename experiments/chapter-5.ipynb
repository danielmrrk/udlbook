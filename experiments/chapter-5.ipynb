{
 "cells": [
  {
   "cell_type": "code",
   "execution_count": 119,
   "metadata": {},
   "outputs": [],
   "source": [
    "import math\n",
    "import numpy as np\n",
    "\n",
    "def solve_quadratic(a, b, c):\n",
    "    discriminant = b**2 - 4*a*c\n",
    "    \n",
    "    if discriminant > 0:\n",
    "        x_1 = (-b + math.sqrt(discriminant)) / (2*a)\n",
    "        x_2 = (-b - math.sqrt(discriminant)) / (2*a)\n",
    "        return (x_1, x_2)\n",
    "    elif discriminant == 0:\n",
    "        x_1 = -b / (2*a)\n",
    "        return (x_1,)\n",
    "    else:\n",
    "        real_part = -b / (2*a)\n",
    "        imaginary_part = math.sqrt(-discriminant) / (2*a)\n",
    "        x_1 = complex(real_part, imaginary_part)\n",
    "        x_2 = complex(real_part, -imaginary_part)\n",
    "        return (x_1, x_2)\n",
    "    \n",
    "def optimize_mu(y: np.array):\n",
    "    a = len(y)\n",
    "    b = - 2 * np.sum(y)\n",
    "    c = np.sum(y**2)\n",
    "    return solve_quadratic(a, b, c)"
   ]
  },
  {
   "cell_type": "code",
   "execution_count": 120,
   "metadata": {},
   "outputs": [
    {
     "name": "stdout",
     "output_type": "stream",
     "text": [
      "Optimal mu: 20.077349489032926\n",
      "Original mu: 20\n"
     ]
    },
    {
     "data": {
      "image/png": "[encoded data removed]",
      "text/plain": [
       "<Figure size 640x480 with 1 Axes>"
      ]
     },
     "metadata": {},
     "output_type": "display_data"
    }
   ],
   "source": [
    "import numpy as np\n",
    "import matplotlib.pyplot as plt\n",
    "from scipy.stats import norm\n",
    "\n",
    "np.random.seed(8)\n",
    "sigma = 2\n",
    "mu = 20\n",
    "y = np.random.normal(mu, sigma, 300)\n",
    "\n",
    "x = np.linspace(15, 25, 1000)\n",
    "opt_mu = np.abs(optimize_mu(y))[0]\n",
    "pdf = norm.pdf(x, mu, sigma)\n",
    "opt_pdf = norm.pdf(x, opt_mu, sigma)\n",
    "\n",
    "print(f'Optimal mu: {opt_mu}')\n",
    "print(f'Original mu: {mu}')\n",
    "\n",
    "plt.plot(x, pdf, color='red')\n",
    "plt.plot(x, opt_pdf, color='orange')\n",
    "plt.scatter(y, np.zeros_like(y))\n",
    "plt.ylim(-0.1, 1)\n",
    "\n",
    "plt.show()\n",
    "\n"
   ]
  },
  {
   "cell_type": "code",
   "execution_count": 127,
   "metadata": {},
   "outputs": [
    {
     "name": "stdout",
     "output_type": "stream",
     "text": [
      "0.5322033893165352\n"
     ]
    }
   ],
   "source": [
    "def kl_divergence(q: np.array, p: np.array) -> float:\n",
    "    if len(q) != len(p):\n",
    "        raise ValueError(\"The two distributions must have the same length\")\n",
    "    elif not np.isclose(np.sum(q), 1, atol=1e-8) or not np.isclose(np.sum(p), 1, atol=1e-8):\n",
    "        raise ValueError(\"The two distributions must sum up to 1\")\n",
    "    return np.sum(q * np.log(q / p))\n",
    "\n",
    "q = np.array([0.1, 0.1, 0.1, 0.1, 0.1, 0.5])\n",
    "p = np.array([0.4, 0.1, 0.1, 0.2, 0.1, 0.1])\n",
    "\n",
    "print(kl_divergence(p, q))\n",
    "\n",
    "# the KL divergence is used between two distributions which sum up to 1, and not simple functions\n",
    "# also the KL value is >= 0\n"
   ]
  },
  {
   "cell_type": "code",
   "execution_count": null,
   "metadata": {},
   "outputs": [],
   "source": []
  }
 ],
 "metadata": {
  "kernelspec": {
   "display_name": "Python 3",
   "language": "python",
   "name": "python3"
  },
  "language_info": {
   "codemirror_mode": {
    "name": "ipython",
    "version": 3
   },
   "file_extension": ".py",
   "mimetype": "text/x-python",
   "name": "python",
   "nbconvert_exporter": "python",
   "pygments_lexer": "ipython3",
   "version": "3.12.0"
  }
 },
 "nbformat": 4,
 "nbformat_minor": 2
}
